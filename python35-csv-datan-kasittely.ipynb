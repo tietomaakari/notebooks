{
 "cells": [
  {
   "cell_type": "markdown",
   "metadata": {
    "deletable": true,
    "editable": true
   },
   "source": [
    "# Määrämuotoisen datan käsittelyä pythonilla (excel/csv)\n",
    "\n",
    "Muiden nykyaikaisten ohjelmointikielien tapaan Python sisältää hyvin paljon valmiina erilaisia apukirjastoja, joita yhdistelemällä saa aikaiseksi tehokkaita toimintoja.\n",
    "\n",
    "Otamme esimerksi tilanteen, jossa euroopan keskuspankista ladattu euron valuuttakurssidata halutaan saada paremmin jatkokäsittelyyn sopivaan muotoon. Sivulla https://www.ecb.europa.eu/stats/policy_and_exchange_rates/euro_reference_exchange_rates/html/index.en.html löytyy data csv-muotoisena. Tässä zip-pakatussa tiedostossa on data sarakkeissa - me haluaisimme saadan datan rivi kerrallaan ja siten, että kolmikirjaimiset maakoodit ovat aakkosjärjestyksessä.\n",
    "\n",
    "Teemme datan lataamisen ja muokkaamisen käyttänen python3.5:n standardikirjastoja."
   ]
  },
  {
   "cell_type": "code",
   "execution_count": 1,
   "metadata": {
    "collapsed": false,
    "deletable": true,
    "editable": true
   },
   "outputs": [
    {
     "name": "stdout",
     "output_type": "stream",
     "text": [
      "Datatype <class 'bytes'> size 403\n"
     ]
    }
   ],
   "source": [
    "#!/usr/bin/env python3\n",
    "\n",
    "# otetaan käyttöön tarvittavista moduuleista olioita ja funktioita\n",
    "from io      import BytesIO\n",
    "from zipfile import ZipFile\n",
    "from urllib.request import urlopen\n",
    "\n",
    "# ladataan datana (bytes) URL:n sisältö\n",
    "# tässä ei ole virhetarkastelua - ongelmatilanteissa saamme poikkeuksen \n",
    "urldata = urlopen('https://www.ecb.europa.eu/stats/eurofxref/eurofxref.zip').read()\n",
    "\n",
    "print( 'Datatype', type(urldata), 'size', len(urldata) )"
   ]
  },
  {
   "cell_type": "code",
   "execution_count": 2,
   "metadata": {
    "collapsed": false,
    "deletable": true,
    "editable": true
   },
   "outputs": [
    {
     "name": "stdout",
     "output_type": "stream",
     "text": [
      "[<ZipInfo filename='eurofxref.csv' compress_type=deflate file_size=434 compress_size=279>]\n"
     ]
    }
   ],
   "source": [
    "# verkosta tulleet raakatavut muutetaan olioksi, jota voi käsitellä kuten tiedostoa\n",
    "bytefile = BytesIO( urldata )\n",
    "\n",
    "# tämä nyt muistissa oleva \"tiedosto\" avataan käsiteltäväksi zipfile-moduulin avulla\n",
    "zipfile = ZipFile( bytefile )\n",
    "print( zipfile.filelist ) # zip-paketin sisältö"
   ]
  },
  {
   "cell_type": "code",
   "execution_count": 3,
   "metadata": {
    "collapsed": false,
    "deletable": true,
    "editable": true
   },
   "outputs": [
    {
     "name": "stdout",
     "output_type": "stream",
     "text": [
      "checks ok \n"
     ]
    }
   ],
   "source": [
    "# varmistetaan oletuksemme ladatusta zip-paketista:\n",
    "assert( len( zipfile.filelist ) == 1 ) # sisällä yksi tiedosto\n",
    "fileobj = zipfile.filelist[0] \n",
    "assert( fileobj.filename == 'eurofxref.csv' ) # tiedostolla on oletettu nimi\n",
    "print( 'checks ok ')"
   ]
  },
  {
   "cell_type": "code",
   "execution_count": 4,
   "metadata": {
    "collapsed": false,
    "deletable": true,
    "editable": true
   },
   "outputs": [
    {
     "name": "stdout",
     "output_type": "stream",
     "text": [
      "[b'Date, USD, JPY, BGN, CZK, DKK, GBP, HUF, PLN, RON, SEK, CHF, NOK, HRK, RUB, TRY, AUD, BRL, CAD, CNY, HKD, IDR, INR, KRW, MXN, MYR, NZD, PHP, SGD, THB, ZAR, ILS, \\n', b'08 March 2017, 1.0556, 120.65, 1.9558, 27.021, 7.4335, 0.86753, 310.70, 4.3130, 4.5503, 9.5223, 1.0702, 8.9513, 7.4213, 61.7573, 3.9434, 1.3968, 3.3151, 1.4193, 7.2953, 8.1982, 14144.80, 70.4960, 1216.36, 20.7130, 4.7082, 1.5219, 53.198, 1.4947, 37.236, 13.7908, 3.8879, \\n']\n"
     ]
    }
   ],
   "source": [
    "# kerätään pakatun zip-tiedoston sisältö talteen listaksi rivejä\n",
    "with zipfile.open( fileobj.filename ) as infile:\n",
    "    LINES = infile.readlines()\n",
    "    \n",
    "print( LINES )"
   ]
  },
  {
   "cell_type": "code",
   "execution_count": 5,
   "metadata": {
    "collapsed": false,
    "deletable": true,
    "editable": true
   },
   "outputs": [
    {
     "name": "stdout",
     "output_type": "stream",
     "text": [
      "[\"b'Date\", 'USD', 'JPY', 'BGN', 'CZK', 'DKK', 'GBP', 'HUF', 'PLN', 'RON', 'SEK', 'CHF', 'NOK', 'HRK', 'RUB', 'TRY', 'AUD', 'BRL', 'CAD', 'CNY', 'HKD', 'IDR', 'INR', 'KRW', 'MXN', 'MYR', 'NZD', 'PHP', 'SGD', 'THB', 'ZAR', 'ILS', \"\\\\n'\"] [\"b'08 March 2017\", '1.0556', '120.65', '1.9558', '27.021', '7.4335', '0.86753', '310.70', '4.3130', '4.5503', '9.5223', '1.0702', '8.9513', '7.4213', '61.7573', '3.9434', '1.3968', '3.3151', '1.4193', '7.2953', '8.1982', '14144.80', '70.4960', '1216.36', '20.7130', '4.7082', '1.5219', '53.198', '1.4947', '37.236', '13.7908', '3.8879', \"\\\\n'\"]\n"
     ]
    }
   ],
   "source": [
    "# jokaisella rivillä on pilkulla eroteltuna kiinnostava data,\n",
    "# joten pätkitään data listaksi pilkun kohdalta.\n",
    "# tyyppimuunnos merkkijonoksi tuottaa pilkkomisen jälkeen myös merkkijonoja\n",
    "HEADER = str( LINES[0] ).split(', ')\n",
    "DATA   = str( LINES[1] ).split(', ')\n",
    "\n",
    "print( HEADER, DATA )"
   ]
  },
  {
   "cell_type": "code",
   "execution_count": 6,
   "metadata": {
    "collapsed": false,
    "deletable": true,
    "editable": true
   },
   "outputs": [
    {
     "name": "stdout",
     "output_type": "stream",
     "text": [
      "['USD', 'JPY', 'BGN', 'CZK', 'DKK', 'GBP', 'HUF', 'PLN', 'RON', 'SEK', 'CHF', 'NOK', 'HRK', 'RUB', 'TRY', 'AUD', 'BRL', 'CAD', 'CNY', 'HKD', 'IDR', 'INR', 'KRW', 'MXN', 'MYR', 'NZD', 'PHP', 'SGD', 'THB', 'ZAR', 'ILS'] ['1.0556', '120.65', '1.9558', '27.021', '7.4335', '0.86753', '310.70', '4.3130', '4.5503', '9.5223', '1.0702', '8.9513', '7.4213', '61.7573', '3.9434', '1.3968', '3.3151', '1.4193', '7.2953', '8.1982', '14144.80', '70.4960', '1216.36', '20.7130', '4.7082', '1.5219', '53.198', '1.4947', '37.236', '13.7908', '3.8879']\n"
     ]
    }
   ],
   "source": [
    "# ensimmäinen ja viimeinen alkio ei kiinnosta meitä, joten pätkäistään ne pois listalta\n",
    "HEADER = HEADER[1:-1]\n",
    "DATA   = DATA[1:-1]\n",
    "\n",
    "print( HEADER, DATA )"
   ]
  },
  {
   "cell_type": "code",
   "execution_count": 7,
   "metadata": {
    "collapsed": false,
    "deletable": true,
    "editable": true
   },
   "outputs": [
    {
     "name": "stdout",
     "output_type": "stream",
     "text": [
      "[1.0556, 120.65, 1.9558, 27.021, 7.4335, 0.86753, 310.7, 4.313, 4.5503, 9.5223, 1.0702, 8.9513, 7.4213, 61.7573, 3.9434, 1.3968, 3.3151, 1.4193, 7.2953, 8.1982, 14144.8, 70.496, 1216.36, 20.713, 4.7082, 1.5219, 53.198, 1.4947, 37.236, 13.7908, 3.8879]\n"
     ]
    }
   ],
   "source": [
    "# data otetaan käsittelyyn liukulukuina\n",
    "DATA = list( map( float, DATA ) )\n",
    "\n",
    "print( DATA )"
   ]
  },
  {
   "cell_type": "code",
   "execution_count": 8,
   "metadata": {
    "collapsed": false,
    "deletable": true,
    "editable": true
   },
   "outputs": [
    {
     "name": "stdout",
     "output_type": "stream",
     "text": [
      "{'CAD': 1.4193, 'BGN': 1.9558, 'GBP': 0.86753, 'BRL': 3.3151, 'CNY': 7.2953, 'RUB': 61.7573, 'HKD': 8.1982, 'CHF': 1.0702, 'HUF': 310.7, 'NOK': 8.9513, 'SGD': 1.4947, 'KRW': 1216.36, 'ZAR': 13.7908, 'CZK': 27.021, 'MXN': 20.713, 'ILS': 3.8879, 'AUD': 1.3968, 'INR': 70.496, 'RON': 4.5503, 'PHP': 53.198, 'IDR': 14144.8, 'JPY': 120.65, 'USD': 1.0556, 'HRK': 7.4213, 'PLN': 4.313, 'TRY': 3.9434, 'NZD': 1.5219, 'MYR': 4.7082, 'SEK': 9.5223, 'THB': 37.236, 'DKK': 7.4335}\n"
     ]
    }
   ],
   "source": [
    "# rakennetaan DICTIONARY, jossa on jokaisen maatunnuksen avaimella talletettuna valuuttakurssi arvona\n",
    "RATES = dict()\n",
    "for country, rate in zip( HEADER, DATA ):\n",
    "    RATES[ country ] = rate\n",
    "    \n",
    "print( RATES )"
   ]
  },
  {
   "cell_type": "code",
   "execution_count": 9,
   "metadata": {
    "collapsed": false,
    "deletable": true,
    "editable": true
   },
   "outputs": [
    {
     "name": "stdout",
     "output_type": "stream",
     "text": [
      "AUD,1.3968\n",
      "BGN,1.9558\n",
      "BRL,3.3151\n",
      "CAD,1.4193\n",
      "CHF,1.0702\n",
      "CNY,7.2953\n",
      "CZK,27.021\n",
      "DKK,7.4335\n",
      "GBP,0.86753\n",
      "HKD,8.1982\n",
      "HRK,7.4213\n",
      "HUF,310.7\n",
      "IDR,14144.8\n",
      "ILS,3.8879\n",
      "INR,70.496\n",
      "JPY,120.65\n",
      "KRW,1216.36\n",
      "MXN,20.713\n",
      "MYR,4.7082\n",
      "NOK,8.9513\n",
      "NZD,1.5219\n",
      "PHP,53.198\n",
      "PLN,4.313\n",
      "RON,4.5503\n",
      "RUB,61.7573\n",
      "SEK,9.5223\n",
      "SGD,1.4947\n",
      "THB,37.236\n",
      "TRY,3.9434\n",
      "USD,1.0556\n",
      "ZAR,13.7908\n"
     ]
    }
   ],
   "source": [
    "# haluttu tulos on nyt RATES-dictionaryn avaimet aakkosjärjestyksessä tulostettuna ja pilkulla erotettuna\n",
    "for country in sorted( RATES.keys() ):\n",
    "    print( \"{0},{1}\".format( country, RATES[country] ) )\n",
    "    "
   ]
  },
  {
   "cell_type": "code",
   "execution_count": null,
   "metadata": {
    "collapsed": true,
    "deletable": true,
    "editable": true
   },
   "outputs": [],
   "source": []
  }
 ],
 "metadata": {
  "kernelspec": {
   "display_name": "Python 3",
   "language": "python",
   "name": "python3"
  },
  "language_info": {
   "codemirror_mode": {
    "name": "ipython",
    "version": 3
   },
   "file_extension": ".py",
   "mimetype": "text/x-python",
   "name": "python",
   "nbconvert_exporter": "python",
   "pygments_lexer": "ipython3",
   "version": "3.5.1"
  }
 },
 "nbformat": 4,
 "nbformat_minor": 2
}
